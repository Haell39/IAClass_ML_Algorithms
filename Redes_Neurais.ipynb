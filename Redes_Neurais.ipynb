{
 "cells": [
  {
   "cell_type": "code",
   "execution_count": 6,
   "id": "36961f4c",
   "metadata": {},
   "outputs": [
    {
     "name": "stdout",
     "output_type": "stream",
     "text": [
      "--- Início do Notebook: Redes Neurais (vou usar o MLP {{Perceptron Multicamadas}}) ---\n"
     ]
    }
   ],
   "source": [
    "import pandas as pd\n",
    "from sklearn.model_selection import train_test_split\n",
    "from sklearn.preprocessing import StandardScaler, OneHotEncoder\n",
    "from sklearn.compose import ColumnTransformer\n",
    "from sklearn.pipeline import Pipeline\n",
    "from sklearn.neural_network import MLPClassifier # Importante para Redes Neurais (MLP)\n",
    "from sklearn.metrics import accuracy_score, classification_report, confusion_matrix\n",
    "import matplotlib.pyplot as plt\n",
    "import seaborn as sns\n",
    "\n",
    "print(\"--- Início do Notebook: Redes Neurais (vou usar o MLP {{Perceptron Multicamadas}}) ---\")"
   ]
  },
  {
   "cell_type": "code",
   "execution_count": 7,
   "id": "4ed059a7",
   "metadata": {},
   "outputs": [
    {
     "name": "stdout",
     "output_type": "stream",
     "text": [
      "Dataset 'Walmart.csv' carregado com sucesso!\n",
      "\n",
      "Primeiras 5 linhas do dataset:\n",
      "   invoice_id   Branch         City                category unit_price  \\\n",
      "0           1  WALM003  San Antonio       Health and beauty     $74.69   \n",
      "1           2  WALM048    Harlingen  Electronic accessories     $15.28   \n",
      "2           3  WALM067  Haltom City      Home and lifestyle     $46.33   \n",
      "3           4  WALM064      Bedford       Health and beauty     $58.22   \n",
      "4           5  WALM013       Irving       Sports and travel     $86.31   \n",
      "\n",
      "   quantity      date      time payment_method  rating  profit_margin  \n",
      "0       7.0  05/01/19  13:08:00        Ewallet     9.1           0.48  \n",
      "1       5.0  08/03/19  10:29:00           Cash     9.6           0.48  \n",
      "2       7.0  03/03/19  13:23:00    Credit card     7.4           0.33  \n",
      "3       8.0  27/01/19  20:33:00        Ewallet     8.4           0.33  \n",
      "4       7.0  08/02/19  10:37:00        Ewallet     5.3           0.48  \n",
      "\n",
      "Informações gerais do dataset antes do pré-processamento:\n",
      "<class 'pandas.core.frame.DataFrame'>\n",
      "RangeIndex: 10051 entries, 0 to 10050\n",
      "Data columns (total 11 columns):\n",
      " #   Column          Non-Null Count  Dtype  \n",
      "---  ------          --------------  -----  \n",
      " 0   invoice_id      10051 non-null  int64  \n",
      " 1   Branch          10051 non-null  object \n",
      " 2   City            10051 non-null  object \n",
      " 3   category        10051 non-null  object \n",
      " 4   unit_price      10020 non-null  object \n",
      " 5   quantity        10020 non-null  float64\n",
      " 6   date            10051 non-null  object \n",
      " 7   time            10051 non-null  object \n",
      " 8   payment_method  10051 non-null  object \n",
      " 9   rating          10051 non-null  float64\n",
      " 10  profit_margin   10051 non-null  float64\n",
      "dtypes: float64(3), int64(1), object(7)\n",
      "memory usage: 863.9+ KB\n"
     ]
    }
   ],
   "source": [
    "# 1. Carregando o dataset\n",
    "try:\n",
    "    df_walmart = pd.read_csv(r'data/Walmart.csv')\n",
    "    print(\"Dataset 'Walmart.csv' carregado com sucesso!\")\n",
    "    print(\"\\nPrimeiras 5 linhas do dataset:\")\n",
    "    print(df_walmart.head())\n",
    "    print(\"\\nInformações gerais do dataset antes do pré-processamento:\")\n",
    "    df_walmart.info()\n",
    "except FileNotFoundError:\n",
    "    print(\"Erro: O arquivo 'Walmart.csv' não foi encontrado.\")\n",
    "    print(\"Por favor, certifique-se de que o arquivo esteja no mesmo diretório do seu script.\")"
   ]
  },
  {
   "cell_type": "code",
   "execution_count": 8,
   "id": "9244def3",
   "metadata": {},
   "outputs": [
    {
     "name": "stdout",
     "output_type": "stream",
     "text": [
      "\n",
      "Coluna 'unit_price' convertida para numérico.\n"
     ]
    }
   ],
   "source": [
    "# 2. Pré-processamento inicial\n",
    "df_walmart['unit_price'] = df_walmart['unit_price'].astype(str).str.replace('$', '', regex=False).astype(float)\n",
    "\n",
    "print(\"\\nColuna 'unit_price' convertida para numérico.\")"
   ]
  }
 ],
 "metadata": {
  "kernelspec": {
   "display_name": "dsvenv",
   "language": "python",
   "name": "python3"
  },
  "language_info": {
   "codemirror_mode": {
    "name": "ipython",
    "version": 3
   },
   "file_extension": ".py",
   "mimetype": "text/x-python",
   "name": "python",
   "nbconvert_exporter": "python",
   "pygments_lexer": "ipython3",
   "version": "3.13.3"
  }
 },
 "nbformat": 4,
 "nbformat_minor": 5
}
