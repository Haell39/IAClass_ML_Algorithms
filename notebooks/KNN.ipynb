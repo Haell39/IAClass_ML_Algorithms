{
 "cells": [
  {
   "cell_type": "markdown",
   "id": "799a0c14",
   "metadata": {},
   "source": [
    "## KNN"
   ]
  },
  {
   "cell_type": "code",
   "execution_count": 2,
   "id": "7e20a313",
   "metadata": {},
   "outputs": [],
   "source": [
    "\"\"\"Imports\"\"\"\n",
    "import pandas as pd\n",
    "from sklearn.model_selection import train_test_split\n",
    "from sklearn.preprocessing import StandardScaler, OneHotEncoder\n",
    "from sklearn.compose import ColumnTransformer\n",
    "from sklearn.pipeline import Pipeline\n",
    "from sklearn.neighbors import KNeighborsClassifier\n",
    "from sklearn.metrics import accuracy_score, classification_report, confusion_matrix\n",
    "import matplotlib.pyplot as plt\n",
    "import seaborn as sns"
   ]
  },
  {
   "cell_type": "code",
   "execution_count": 3,
   "id": "3317f7e5",
   "metadata": {},
   "outputs": [
    {
     "name": "stdout",
     "output_type": "stream",
     "text": [
      "Dataset 'Walmart.csv' carregado com sucesso!\n",
      "\n",
      "Primeiras 5 linhas do dataset:\n"
     ]
    },
    {
     "data": {
      "text/html": [
       "<div>\n",
       "<style scoped>\n",
       "    .dataframe tbody tr th:only-of-type {\n",
       "        vertical-align: middle;\n",
       "    }\n",
       "\n",
       "    .dataframe tbody tr th {\n",
       "        vertical-align: top;\n",
       "    }\n",
       "\n",
       "    .dataframe thead th {\n",
       "        text-align: right;\n",
       "    }\n",
       "</style>\n",
       "<table border=\"1\" class=\"dataframe\">\n",
       "  <thead>\n",
       "    <tr style=\"text-align: right;\">\n",
       "      <th></th>\n",
       "      <th>invoice_id</th>\n",
       "      <th>Branch</th>\n",
       "      <th>City</th>\n",
       "      <th>category</th>\n",
       "      <th>unit_price</th>\n",
       "      <th>quantity</th>\n",
       "      <th>date</th>\n",
       "      <th>time</th>\n",
       "      <th>payment_method</th>\n",
       "      <th>rating</th>\n",
       "      <th>profit_margin</th>\n",
       "    </tr>\n",
       "  </thead>\n",
       "  <tbody>\n",
       "    <tr>\n",
       "      <th>0</th>\n",
       "      <td>1</td>\n",
       "      <td>WALM003</td>\n",
       "      <td>San Antonio</td>\n",
       "      <td>Health and beauty</td>\n",
       "      <td>$74.69</td>\n",
       "      <td>7.0</td>\n",
       "      <td>05/01/19</td>\n",
       "      <td>13:08:00</td>\n",
       "      <td>Ewallet</td>\n",
       "      <td>9.1</td>\n",
       "      <td>0.48</td>\n",
       "    </tr>\n",
       "    <tr>\n",
       "      <th>1</th>\n",
       "      <td>2</td>\n",
       "      <td>WALM048</td>\n",
       "      <td>Harlingen</td>\n",
       "      <td>Electronic accessories</td>\n",
       "      <td>$15.28</td>\n",
       "      <td>5.0</td>\n",
       "      <td>08/03/19</td>\n",
       "      <td>10:29:00</td>\n",
       "      <td>Cash</td>\n",
       "      <td>9.6</td>\n",
       "      <td>0.48</td>\n",
       "    </tr>\n",
       "    <tr>\n",
       "      <th>2</th>\n",
       "      <td>3</td>\n",
       "      <td>WALM067</td>\n",
       "      <td>Haltom City</td>\n",
       "      <td>Home and lifestyle</td>\n",
       "      <td>$46.33</td>\n",
       "      <td>7.0</td>\n",
       "      <td>03/03/19</td>\n",
       "      <td>13:23:00</td>\n",
       "      <td>Credit card</td>\n",
       "      <td>7.4</td>\n",
       "      <td>0.33</td>\n",
       "    </tr>\n",
       "    <tr>\n",
       "      <th>3</th>\n",
       "      <td>4</td>\n",
       "      <td>WALM064</td>\n",
       "      <td>Bedford</td>\n",
       "      <td>Health and beauty</td>\n",
       "      <td>$58.22</td>\n",
       "      <td>8.0</td>\n",
       "      <td>27/01/19</td>\n",
       "      <td>20:33:00</td>\n",
       "      <td>Ewallet</td>\n",
       "      <td>8.4</td>\n",
       "      <td>0.33</td>\n",
       "    </tr>\n",
       "    <tr>\n",
       "      <th>4</th>\n",
       "      <td>5</td>\n",
       "      <td>WALM013</td>\n",
       "      <td>Irving</td>\n",
       "      <td>Sports and travel</td>\n",
       "      <td>$86.31</td>\n",
       "      <td>7.0</td>\n",
       "      <td>08/02/19</td>\n",
       "      <td>10:37:00</td>\n",
       "      <td>Ewallet</td>\n",
       "      <td>5.3</td>\n",
       "      <td>0.48</td>\n",
       "    </tr>\n",
       "  </tbody>\n",
       "</table>\n",
       "</div>"
      ],
      "text/plain": [
       "   invoice_id   Branch         City                category unit_price  \\\n",
       "0           1  WALM003  San Antonio       Health and beauty     $74.69   \n",
       "1           2  WALM048    Harlingen  Electronic accessories     $15.28   \n",
       "2           3  WALM067  Haltom City      Home and lifestyle     $46.33   \n",
       "3           4  WALM064      Bedford       Health and beauty     $58.22   \n",
       "4           5  WALM013       Irving       Sports and travel     $86.31   \n",
       "\n",
       "   quantity      date      time payment_method  rating  profit_margin  \n",
       "0       7.0  05/01/19  13:08:00        Ewallet     9.1           0.48  \n",
       "1       5.0  08/03/19  10:29:00           Cash     9.6           0.48  \n",
       "2       7.0  03/03/19  13:23:00    Credit card     7.4           0.33  \n",
       "3       8.0  27/01/19  20:33:00        Ewallet     8.4           0.33  \n",
       "4       7.0  08/02/19  10:37:00        Ewallet     5.3           0.48  "
      ]
     },
     "metadata": {},
     "output_type": "display_data"
    },
    {
     "name": "stdout",
     "output_type": "stream",
     "text": [
      "\n",
      "Informações gerais do dataset antes do pré-processamento:\n",
      "<class 'pandas.core.frame.DataFrame'>\n",
      "RangeIndex: 10051 entries, 0 to 10050\n",
      "Data columns (total 11 columns):\n",
      " #   Column          Non-Null Count  Dtype  \n",
      "---  ------          --------------  -----  \n",
      " 0   invoice_id      10051 non-null  int64  \n",
      " 1   Branch          10051 non-null  object \n",
      " 2   City            10051 non-null  object \n",
      " 3   category        10051 non-null  object \n",
      " 4   unit_price      10020 non-null  object \n",
      " 5   quantity        10020 non-null  float64\n",
      " 6   date            10051 non-null  object \n",
      " 7   time            10051 non-null  object \n",
      " 8   payment_method  10051 non-null  object \n",
      " 9   rating          10051 non-null  float64\n",
      " 10  profit_margin   10051 non-null  float64\n",
      "dtypes: float64(3), int64(1), object(7)\n",
      "memory usage: 863.9+ KB\n"
     ]
    }
   ],
   "source": [
    "# Carregando o dataset com try e except\n",
    "try:\n",
    "    df_walmart = pd.read_csv('data//Walmart.csv')\n",
    "    print(\"Dataset 'Walmart.csv' carregado com sucesso!\")\n",
    "    print(\"\\nPrimeiras 5 linhas do dataset:\")\n",
    "    display(df_walmart.head())\n",
    "    print(\"\\nInformações gerais do dataset antes do pré-processamento:\")\n",
    "    df_walmart.info()\n",
    "except FileNotFoundError:\n",
    "    print(\"Erro: O arquivo 'Walmart.csv' não foi encontrado.\")\n",
    "    print(\"Por favor, certifique-se de que o arquivo esteja no mesmo diretório do seu script.\")"
   ]
  },
  {
   "cell_type": "code",
   "execution_count": 4,
   "id": "90e878af",
   "metadata": {},
   "outputs": [
    {
     "name": "stdout",
     "output_type": "stream",
     "text": [
      "\n",
      "Coluna 'unit_price' convertida para numérico.\n",
      "Estatísticas descritivas atualizadas para 'unit_price':\n",
      "count    10020.000000\n",
      "mean        50.630053\n",
      "std         21.197783\n",
      "min         10.080000\n",
      "25%         32.000000\n",
      "50%         51.000000\n",
      "75%         69.000000\n",
      "max         99.960000\n",
      "Name: unit_price, dtype: float64\n"
     ]
    }
   ],
   "source": [
    "\"\"\" Pré processamento inicial \"\"\"\n",
    "\n",
    "# removendo o '$' e dps converter para float\n",
    "df_walmart['unit_price'] = df_walmart['unit_price'].astype(str).str.replace('$', '', regex=False).astype(float)\n",
    "\n",
    "print(\"\\nColuna 'unit_price' convertida para numérico.\")\n",
    "print(\"Estatísticas descritivas atualizadas para 'unit_price':\")\n",
    "print(df_walmart['unit_price'].describe())"
   ]
  },
  {
   "cell_type": "code",
   "execution_count": 5,
   "id": "e9e03670",
   "metadata": {},
   "outputs": [
    {
     "name": "stdout",
     "output_type": "stream",
     "text": [
      "\n",
      "Nova coluna 'High_Rating' (variável alvo) criada. Contagem de classes:\n",
      "High_Rating\n",
      "0    6492\n",
      "1    3559\n",
      "Name: count, dtype: int64\n"
     ]
    }
   ],
   "source": [
    "# 3. Criar a variável alvo (y) para Classificação\n",
    "# nova coluna 'High_Rating' onde 1 significa rating >= 7 e 0 significa rating < 7\n",
    "df_walmart['High_Rating'] = (df_walmart['rating'] >= 7).astype(int)\n",
    "\n",
    "print(\"\\nNova coluna 'High_Rating' (variável alvo) criada. Contagem de classes:\")\n",
    "print(df_walmart['High_Rating'].value_counts())\n"
   ]
  },
  {
   "cell_type": "code",
   "execution_count": 6,
   "id": "f24a121b",
   "metadata": {},
   "outputs": [
    {
     "name": "stdout",
     "output_type": "stream",
     "text": [
      "\n",
      "Características (X) selecionadas: ['unit_price', 'quantity', 'profit_margin', 'category', 'payment_method', 'Branch']\n",
      "Variável alvo (y) selecionada: 'High_Rating'\n"
     ]
    }
   ],
   "source": [
    "# 4. Definir características (X) e a variável alvo (y)\n",
    "# excluí as colunas de identificação, data/hora e as originais 'rating' e 'City' (para evitar redundância com 'Branch' e manter foco)\n",
    "X = df_walmart.drop(['invoice_id', 'date', 'time', 'rating', 'High_Rating', 'City'], axis=1)\n",
    "y = df_walmart['High_Rating']\n",
    "\n",
    "# Identificar colunas numéricas e categóricas para o pré-processamento\n",
    "numeric_features = ['unit_price', 'quantity', 'profit_margin']\n",
    "categorical_features = ['category', 'payment_method', 'Branch'] # Estas serão pro One-Hot Encoded\n",
    "\n",
    "print(f\"\\nCaracterísticas (X) selecionadas: {numeric_features + categorical_features}\")\n",
    "print(f\"Variável alvo (y) selecionada: 'High_Rating'\")\n"
   ]
  },
  {
   "cell_type": "code",
   "execution_count": 7,
   "id": "66033d7d",
   "metadata": {},
   "outputs": [
    {
     "name": "stdout",
     "output_type": "stream",
     "text": [
      "Valores ausentes na coluna numérica 'unit_price' preenchidos com a média.\n",
      "Valores ausentes na coluna numérica 'quantity' preenchidos com a média.\n"
     ]
    },
    {
     "name": "stderr",
     "output_type": "stream",
     "text": [
      "C:\\Users\\Rafael\\AppData\\Local\\Temp\\ipykernel_16012\\1667778973.py:6: FutureWarning: A value is trying to be set on a copy of a DataFrame or Series through chained assignment using an inplace method.\n",
      "The behavior will change in pandas 3.0. This inplace method will never work because the intermediate object on which we are setting values always behaves as a copy.\n",
      "\n",
      "For example, when doing 'df[col].method(value, inplace=True)', try using 'df.method({col: value}, inplace=True)' or df[col] = df[col].method(value) instead, to perform the operation inplace on the original object.\n",
      "\n",
      "\n",
      "  X[col].fillna(mean_val, inplace=True)\n"
     ]
    }
   ],
   "source": [
    "# 5. Tratamento de valores ausentes em X antes do ColumnTransformer\n",
    "# Para as colunas numéricas, preencher com a média\n",
    "for col in numeric_features:\n",
    "    if X[col].isnull().any():\n",
    "        mean_val = X[col].mean()\n",
    "        X[col].fillna(mean_val, inplace=True)\n",
    "        print(f\"Valores ausentes na coluna numérica '{col}' preenchidos com a média.\")\n",
    "\n",
    "# Para colunas categóricas, preencher com o modo (valor mais frequente), se houver NaNs\n",
    "for col in categorical_features:\n",
    "    if X[col].isnull().any():\n",
    "        mode_val = X[col].mode()[0] # o 'mode' é pra  retornar múltiplos valores se houver empate\n",
    "        X[col].fillna(mode_val, inplace=True)\n",
    "        print(f\"Valores ausentes na coluna categórica '{col}' preenchidos com o modo.\")\n"
   ]
  },
  {
   "cell_type": "code",
   "execution_count": 8,
   "id": "9b93e8a5",
   "metadata": {},
   "outputs": [],
   "source": [
    "# 6. Criar um pré-processador usando ColumnTransformer e Pipeline\n",
    "# Standardscaler --> colunas numéricas\n",
    "# OneHotEncoder --> colunas categóricas\n",
    "preprocessor = ColumnTransformer(\n",
    "    transformers=[\n",
    "        ('num', StandardScaler(), numeric_features),\n",
    "        ('cat', OneHotEncoder(handle_unknown='ignore'), categorical_features)\n",
    "    ])"
   ]
  },
  {
   "cell_type": "code",
   "execution_count": 9,
   "id": "e63e8413",
   "metadata": {},
   "outputs": [
    {
     "name": "stdout",
     "output_type": "stream",
     "text": [
      "\n",
      "Dados divididos: Treino=7035 amostras, Teste=3016 amostras.\n",
      "Proporção de 'High_Rating' no treino:\n",
      "High_Rating\n",
      "0    0.645913\n",
      "1    0.354087\n",
      "Name: proportion, dtype: float64\n",
      "Proporção de 'High_Rating' no teste:\n",
      "High_Rating\n",
      "0    0.645889\n",
      "1    0.354111\n",
      "Name: proportion, dtype: float64\n"
     ]
    }
   ],
   "source": [
    "# 7. Dividir os dados em conjuntos de treinamento e teste\n",
    "# test_size=0.3  30% dos dados serão usados pra teste\n",
    "# random_state=42 é só pra garantir que a divisão seja sempre a mesma em execuções diferentes\n",
    "# stratify=y é pra garantir que a proporção das classes de 'High_Rating' seja mantida nos conjuntos de treino e teste\n",
    "X_train, X_test, y_train, y_test = train_test_split(X, y, test_size=0.3, random_state=42, stratify=y)\n",
    "\n",
    "print(f\"\\nDados divididos: Treino={len(X_train)} amostras, Teste={len(X_test)} amostras.\")\n",
    "print(f\"Proporção de 'High_Rating' no treino:\\n{y_train.value_counts(normalize=True)}\")\n",
    "print(f\"Proporção de 'High_Rating' no teste:\\n{y_test.value_counts(normalize=True)}\")\n"
   ]
  },
  {
   "cell_type": "code",
   "execution_count": 10,
   "id": "1a9dceb8",
   "metadata": {},
   "outputs": [
    {
     "name": "stdout",
     "output_type": "stream",
     "text": [
      "\n",
      "Treinando o modelo KNN...\n",
      "Treinamento do KNN concluído.\n",
      "\n",
      "--- Resultados do KNN ---\n",
      "Acurácia do KNN no conjunto de teste: 0.6144\n",
      "\n",
      "Relatório de Classificação (Precision, Recall, F1-score):\n",
      "                     precision    recall  f1-score   support\n",
      "\n",
      "Baixa Avaliação (0)       0.68      0.77      0.72      1948\n",
      " Alta Avaliação (1)       0.44      0.33      0.37      1068\n",
      "\n",
      "           accuracy                           0.61      3016\n",
      "          macro avg       0.56      0.55      0.55      3016\n",
      "       weighted avg       0.59      0.61      0.60      3016\n",
      "\n",
      "\n",
      "Matriz de Confusão:\n",
      "[[1505  443]\n",
      " [ 720  348]]\n"
     ]
    }
   ],
   "source": [
    "# 8. Treinar e avaliar o modelo KNN\n",
    "# criando pipeline que primeiro pré-processa os dados e depois aplica o classificador KNN\n",
    "# n_neighbors: número de vizinhos mais próximos a considerar = 5 pra começar\n",
    "knn_pipeline = Pipeline(steps=[('preprocessor', preprocessor), ('classifier', KNeighborsClassifier(n_neighbors=5))])\n",
    "\n",
    "print(\"\\nTreinando o modelo KNN...\")\n",
    "knn_pipeline.fit(X_train, y_train)\n",
    "print(\"Treinamento do KNN concluído.\")\n",
    "\n",
    "# Fazer previsões no conjunto de teste\n",
    "y_pred_knn = knn_pipeline.predict(X_test)\n",
    "\n",
    "# Avaliar o desempenho do modelo\n",
    "accuracy = accuracy_score(y_test, y_pred_knn)\n",
    "print(f\"\\n--- Resultados do KNN ---\")\n",
    "print(f\"Acurácia do KNN no conjunto de teste: {accuracy:.4f}\")\n",
    "\n",
    "print(\"\\nRelatório de Classificação (Precision, Recall, F1-score):\")\n",
    "print(classification_report(y_test, y_pred_knn, target_names=['Baixa Avaliação (0)', 'Alta Avaliação (1)']))\n",
    "\n",
    "print(\"\\nMatriz de Confusão:\")\n",
    "cm = confusion_matrix(y_test, y_pred_knn)\n",
    "print(cm)"
   ]
  },
  {
   "cell_type": "code",
   "execution_count": 11,
   "id": "0ad1cf6c",
   "metadata": {},
   "outputs": [
    {
     "data": {
      "image/png": "[encoded data removed]",
      "text/plain": [
       "<Figure size 700x600 with 1 Axes>"
      ]
     },
     "metadata": {},
     "output_type": "display_data"
    },
    {
     "name": "stdout",
     "output_type": "stream",
     "text": [
      "\n",
      "--- Exemplo de Nova Previsão com KNN ---\n"
     ]
    }
   ],
   "source": [
    "# 9. Visualização da Matriz de Confusão\n",
    "plt.figure(figsize=(7, 6))\n",
    "sns.heatmap(cm, annot=True, fmt='d', cmap='Blues', cbar=False, xticklabels=['Previsto: Baixa Avaliação (0)', 'Previsto: Alta Avaliação (1)'],yticklabels=['Real: Baixa Avaliação (0)', 'Real: Alta Avaliação (1)'])\n",
    "plt.xlabel('Classe Prevista')\n",
    "plt.ylabel('Classe Real')\n",
    "plt.title('Matriz de Confusão para o Classificador KNN')\n",
    "plt.show()\n",
    "\n",
    "\n",
    "# Exemplo de uma nova previsão:\n",
    "print(\"\\n--- Exemplo de Nova Previsão com KNN ---\")\n",
    "# Criar um novo ponto de dados (com valores hipotéticos)\n",
    "new_data = pd.DataFrame({\n",
    "    'unit_price': [55.0],\n",
    "    'quantity': [4.0],\n",
    "    'profit_margin': [0.4],\n",
    "    'category': ['Food and beverages'], # Certifique-se de que a categoria exista nos dados de treino ou use 'handle_unknown='ignore'\n",
    "    'payment_method': ['Credit card'],\n",
    "    'Branch': ['A']\n",
    "})"
   ]
  },
  {
   "cell_type": "code",
   "execution_count": 12,
   "id": "2c8b3c8d",
   "metadata": {},
   "outputs": [
    {
     "name": "stdout",
     "output_type": "stream",
     "text": [
      "O modelo KNN previu que esta transação terá uma: Baixa Avaliação\n"
     ]
    }
   ],
   "source": [
    "# Fazer a previsão usando o pipeline treinado\n",
    "new_prediction = knn_pipeline.predict(new_data)\n",
    "predicted_class = 'Alta Avaliação' if new_prediction[0] == 1 else 'Baixa Avaliação'\n",
    "print(f\"O modelo KNN previu que esta transação terá uma: {predicted_class}\")"
   ]
  },
  {
   "cell_type": "code",
   "execution_count": 13,
   "id": "61a7cbcb",
   "metadata": {},
   "outputs": [
    {
     "name": "stdout",
     "output_type": "stream",
     "text": [
      "--- Exemplo de uso do modelo ---\n",
      "\n",
      "Novo dado de transação para previsão:\n"
     ]
    },
    {
     "data": {
      "text/html": [
       "<div>\n",
       "<style scoped>\n",
       "    .dataframe tbody tr th:only-of-type {\n",
       "        vertical-align: middle;\n",
       "    }\n",
       "\n",
       "    .dataframe tbody tr th {\n",
       "        vertical-align: top;\n",
       "    }\n",
       "\n",
       "    .dataframe thead th {\n",
       "        text-align: right;\n",
       "    }\n",
       "</style>\n",
       "<table border=\"1\" class=\"dataframe\">\n",
       "  <thead>\n",
       "    <tr style=\"text-align: right;\">\n",
       "      <th></th>\n",
       "      <th>unit_price</th>\n",
       "      <th>quantity</th>\n",
       "      <th>profit_margin</th>\n",
       "      <th>category</th>\n",
       "      <th>payment_method</th>\n",
       "      <th>Branch</th>\n",
       "    </tr>\n",
       "  </thead>\n",
       "  <tbody>\n",
       "    <tr>\n",
       "      <th>0</th>\n",
       "      <td>70.5</td>\n",
       "      <td>2.0</td>\n",
       "      <td>0.45</td>\n",
       "      <td>Home and lifestyle</td>\n",
       "      <td>Cash</td>\n",
       "      <td>B</td>\n",
       "    </tr>\n",
       "  </tbody>\n",
       "</table>\n",
       "</div>"
      ],
      "text/plain": [
       "   unit_price  quantity  profit_margin            category payment_method  \\\n",
       "0        70.5       2.0           0.45  Home and lifestyle           Cash   \n",
       "\n",
       "  Branch  \n",
       "0      B  "
      ]
     },
     "metadata": {},
     "output_type": "display_data"
    },
    {
     "name": "stdout",
     "output_type": "stream",
     "text": [
      "\n",
      "O modelo KNN previu que esta transação terá uma: Baixa Avaliação\n"
     ]
    }
   ],
   "source": [
    "print(\"--- Exemplo de uso do modelo ---\")\n",
    "\n",
    "novo_dado_transacao = pd.DataFrame({\n",
    "    'unit_price': [70.50],           #  preço unitário hipotético\n",
    "    'quantity': [2.0],               # Duas unidades compradas\n",
    "    'profit_margin': [0.45],         # Margem de lucro de 45%\n",
    "    'category': ['Home and lifestyle'], # Categoria do produto\n",
    "    'payment_method': ['Cash'],      # Método de pagamento\n",
    "    'Branch': ['B']                  # Filial da transação\n",
    "})\n",
    "\n",
    "print(\"\\nNovo dado de transação para previsão:\")\n",
    "display(novo_dado_transacao)\n",
    "\n",
    "\n",
    "previsao_bruta = knn_pipeline.predict(novo_dado_transacao)\n",
    "\n",
    "# lembrando que o modelo retorna 1 para 'Alta Avaliação' e 0 para 'Baixa Avaliação'\n",
    "resultado_legivel = 'Alta Avaliação' if previsao_bruta[0] == 1 else 'Baixa Avaliação'\n",
    "\n",
    "print(f\"\\nO modelo KNN previu que esta transação terá uma: {resultado_legivel}\")"
   ]
  }
 ],
 "metadata": {
  "kernelspec": {
   "display_name": "dsvenv",
   "language": "python",
   "name": "python3"
  },
  "language_info": {
   "codemirror_mode": {
    "name": "ipython",
    "version": 3
   },
   "file_extension": ".py",
   "mimetype": "text/x-python",
   "name": "python",
   "nbconvert_exporter": "python",
   "pygments_lexer": "ipython3",
   "version": "3.13.3"
  }
 },
 "nbformat": 4,
 "nbformat_minor": 5
}
