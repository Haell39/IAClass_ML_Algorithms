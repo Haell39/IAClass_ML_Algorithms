{
 "cells": [
  {
   "cell_type": "code",
   "execution_count": 15,
   "id": "7e96eb91",
   "metadata": {},
   "outputs": [],
   "source": [
    "import pandas as pd\n",
    "import numpy as np\n",
    "from sklearn.model_selection import train_test_split, GridSearchCV, cross_val_score\n",
    "from sklearn.tree import DecisionTreeClassifier\n",
    "from sklearn.ensemble import RandomForestClassifier\n",
    "from sklearn.preprocessing import LabelEncoder\n",
    "from sklearn.metrics import accuracy_score, classification_report\n",
    "from datetime import datetime"
   ]
  },
  {
   "cell_type": "code",
   "execution_count": 16,
   "id": "f7896477",
   "metadata": {},
   "outputs": [
    {
     "name": "stdout",
     "output_type": "stream",
     "text": [
      "Valores nulos:\n",
      " invoice_id         0\n",
      "Branch             0\n",
      "City               0\n",
      "category           0\n",
      "unit_price        31\n",
      "quantity          31\n",
      "date               0\n",
      "time               0\n",
      "payment_method     0\n",
      "rating             0\n",
      "profit_margin      0\n",
      "dtype: int64\n"
     ]
    }
   ],
   "source": [
    "# Carregar o dataset\n",
    "data = pd.read_csv('..//data//Walmart.csv')\n",
    "\n",
    "# Pré-processamento\n",
    "# Verificar valores nulos\n",
    "print(\"Valores nulos:\\n\", data.isnull().sum())"
   ]
  },
  {
   "cell_type": "code",
   "execution_count": 17,
   "id": "f7778470",
   "metadata": {},
   "outputs": [],
   "source": [
    "# Extrair características de data e hora\n",
    "data['date'] = pd.to_datetime(data['date'], format='%d/%m/%y')\n",
    "data['month'] = data['date'].dt.month\n",
    "data['day_of_week'] = data['date'].dt.dayofweek\n",
    "data['time'] = pd.to_datetime(data['time'], format='%H:%M:%S')\n",
    "data['hour'] = data['time'].dt.hour\n"
   ]
  },
  {
   "cell_type": "code",
   "execution_count": 18,
   "id": "3607822f",
   "metadata": {},
   "outputs": [],
   "source": [
    "# Codificar variáveis categóricas\n",
    "le = LabelEncoder()\n",
    "data['Branch'] = le.fit_transform(data['Branch'])\n",
    "data['City'] = le.fit_transform(data['City'])\n",
    "data['category'] = le.fit_transform(data['category'])\n",
    "data['payment_method'] = le.fit_transform(data['payment_method'])"
   ]
  },
  {
   "cell_type": "code",
   "execution_count": 19,
   "id": "dc51d4bd",
   "metadata": {},
   "outputs": [],
   "source": [
    "# Selecionar features e alvo\n",
    "features = ['Branch', 'City', 'category', 'unit_price', 'quantity', 'month', 'day_of_week', 'hour', 'rating', 'profit_margin']\n",
    "X = data[features]\n",
    "y = data['payment_method']"
   ]
  },
  {
   "cell_type": "code",
   "execution_count": 20,
   "id": "fb6cd343",
   "metadata": {},
   "outputs": [],
   "source": [
    "# Dividir em treino e teste\n",
    "X_train, X_test, y_train, y_test = train_test_split(X, y, test_size=0.2, random_state=27)"
   ]
  },
  {
   "cell_type": "code",
   "execution_count": 21,
   "id": "ba7f7682",
   "metadata": {},
   "outputs": [
    {
     "ename": "ValueError",
     "evalue": "\nAll the 180 fits failed.\nIt is very likely that your model is misconfigured.\nYou can try to debug the error by setting error_score='raise'.\n\nBelow are more details about the failures:\n--------------------------------------------------------------------------------\n36 fits failed with the following error:\nTraceback (most recent call last):\n  File \"d:\\GitHub Desktop\\IAClass_ML_Algorithms\\dsvenv\\Lib\\site-packages\\sklearn\\model_selection\\_validation.py\", line 859, in _fit_and_score\n    estimator.fit(X_train, y_train, **fit_params)\n    ~~~~~~~~~~~~~^^^^^^^^^^^^^^^^^^^^^^^^^^^^^^^^\n  File \"d:\\GitHub Desktop\\IAClass_ML_Algorithms\\dsvenv\\Lib\\site-packages\\sklearn\\base.py\", line 1363, in wrapper\n    return fit_method(estimator, *args, **kwargs)\n  File \"d:\\GitHub Desktop\\IAClass_ML_Algorithms\\dsvenv\\Lib\\site-packages\\sklearn\\tree\\_classes.py\", line 1024, in fit\n    super()._fit(\n    ~~~~~~~~~~~~^\n        X,\n        ^^\n    ...<2 lines>...\n        check_input=check_input,\n        ^^^^^^^^^^^^^^^^^^^^^^^^\n    )\n    ^\n  File \"d:\\GitHub Desktop\\IAClass_ML_Algorithms\\dsvenv\\Lib\\site-packages\\sklearn\\tree\\_classes.py\", line 252, in _fit\n    X, y = validate_data(\n           ~~~~~~~~~~~~~^\n        self, X, y, validate_separately=(check_X_params, check_y_params)\n        ^^^^^^^^^^^^^^^^^^^^^^^^^^^^^^^^^^^^^^^^^^^^^^^^^^^^^^^^^^^^^^^^\n    )\n    ^\n  File \"d:\\GitHub Desktop\\IAClass_ML_Algorithms\\dsvenv\\Lib\\site-packages\\sklearn\\utils\\validation.py\", line 2966, in validate_data\n    X = check_array(X, input_name=\"X\", **check_X_params)\n  File \"d:\\GitHub Desktop\\IAClass_ML_Algorithms\\dsvenv\\Lib\\site-packages\\sklearn\\utils\\validation.py\", line 1053, in check_array\n    array = _asarray_with_order(array, order=order, dtype=dtype, xp=xp)\n  File \"d:\\GitHub Desktop\\IAClass_ML_Algorithms\\dsvenv\\Lib\\site-packages\\sklearn\\utils\\_array_api.py\", line 757, in _asarray_with_order\n    array = numpy.asarray(array, order=order, dtype=dtype)\n  File \"d:\\GitHub Desktop\\IAClass_ML_Algorithms\\dsvenv\\Lib\\site-packages\\pandas\\core\\generic.py\", line 2168, in __array__\n    arr = np.asarray(values, dtype=dtype)\nValueError: could not convert string to float: '$67'\n\n--------------------------------------------------------------------------------\n144 fits failed with the following error:\nTraceback (most recent call last):\n  File \"d:\\GitHub Desktop\\IAClass_ML_Algorithms\\dsvenv\\Lib\\site-packages\\sklearn\\model_selection\\_validation.py\", line 859, in _fit_and_score\n    estimator.fit(X_train, y_train, **fit_params)\n    ~~~~~~~~~~~~~^^^^^^^^^^^^^^^^^^^^^^^^^^^^^^^^\n  File \"d:\\GitHub Desktop\\IAClass_ML_Algorithms\\dsvenv\\Lib\\site-packages\\sklearn\\base.py\", line 1363, in wrapper\n    return fit_method(estimator, *args, **kwargs)\n  File \"d:\\GitHub Desktop\\IAClass_ML_Algorithms\\dsvenv\\Lib\\site-packages\\sklearn\\tree\\_classes.py\", line 1024, in fit\n    super()._fit(\n    ~~~~~~~~~~~~^\n        X,\n        ^^\n    ...<2 lines>...\n        check_input=check_input,\n        ^^^^^^^^^^^^^^^^^^^^^^^^\n    )\n    ^\n  File \"d:\\GitHub Desktop\\IAClass_ML_Algorithms\\dsvenv\\Lib\\site-packages\\sklearn\\tree\\_classes.py\", line 252, in _fit\n    X, y = validate_data(\n           ~~~~~~~~~~~~~^\n        self, X, y, validate_separately=(check_X_params, check_y_params)\n        ^^^^^^^^^^^^^^^^^^^^^^^^^^^^^^^^^^^^^^^^^^^^^^^^^^^^^^^^^^^^^^^^\n    )\n    ^\n  File \"d:\\GitHub Desktop\\IAClass_ML_Algorithms\\dsvenv\\Lib\\site-packages\\sklearn\\utils\\validation.py\", line 2966, in validate_data\n    X = check_array(X, input_name=\"X\", **check_X_params)\n  File \"d:\\GitHub Desktop\\IAClass_ML_Algorithms\\dsvenv\\Lib\\site-packages\\sklearn\\utils\\validation.py\", line 1053, in check_array\n    array = _asarray_with_order(array, order=order, dtype=dtype, xp=xp)\n  File \"d:\\GitHub Desktop\\IAClass_ML_Algorithms\\dsvenv\\Lib\\site-packages\\sklearn\\utils\\_array_api.py\", line 757, in _asarray_with_order\n    array = numpy.asarray(array, order=order, dtype=dtype)\n  File \"d:\\GitHub Desktop\\IAClass_ML_Algorithms\\dsvenv\\Lib\\site-packages\\pandas\\core\\generic.py\", line 2168, in __array__\n    arr = np.asarray(values, dtype=dtype)\nValueError: could not convert string to float: '$48'\n",
     "output_type": "error",
     "traceback": [
      "\u001b[31m---------------------------------------------------------------------------\u001b[39m",
      "\u001b[31mValueError\u001b[39m                                Traceback (most recent call last)",
      "\u001b[36mCell\u001b[39m\u001b[36m \u001b[39m\u001b[32mIn[21]\u001b[39m\u001b[32m, line 11\u001b[39m\n\u001b[32m      5\u001b[39m param_grid_dt = {\n\u001b[32m      6\u001b[39m     \u001b[33m'\u001b[39m\u001b[33mmax_depth\u001b[39m\u001b[33m'\u001b[39m: [\u001b[38;5;28;01mNone\u001b[39;00m, \u001b[32m10\u001b[39m, \u001b[32m20\u001b[39m, \u001b[32m30\u001b[39m],\n\u001b[32m      7\u001b[39m     \u001b[33m'\u001b[39m\u001b[33mmin_samples_split\u001b[39m\u001b[33m'\u001b[39m: [\u001b[32m2\u001b[39m, \u001b[32m5\u001b[39m, \u001b[32m10\u001b[39m],\n\u001b[32m      8\u001b[39m     \u001b[33m'\u001b[39m\u001b[33mmin_samples_leaf\u001b[39m\u001b[33m'\u001b[39m: [\u001b[32m1\u001b[39m, \u001b[32m2\u001b[39m, \u001b[32m4\u001b[39m]\n\u001b[32m      9\u001b[39m }\n\u001b[32m     10\u001b[39m grid_dt = GridSearchCV(dt, param_grid_dt, cv=\u001b[32m5\u001b[39m, scoring=\u001b[33m'\u001b[39m\u001b[33maccuracy\u001b[39m\u001b[33m'\u001b[39m)\n\u001b[32m---> \u001b[39m\u001b[32m11\u001b[39m \u001b[43mgrid_dt\u001b[49m\u001b[43m.\u001b[49m\u001b[43mfit\u001b[49m\u001b[43m(\u001b[49m\u001b[43mX_train\u001b[49m\u001b[43m,\u001b[49m\u001b[43m \u001b[49m\u001b[43my_train\u001b[49m\u001b[43m)\u001b[49m\n\u001b[32m     13\u001b[39m \u001b[38;5;66;03m# Melhor modelo de árvore\u001b[39;00m\n\u001b[32m     14\u001b[39m best_dt = grid_dt.best_estimator_\n",
      "\u001b[36mFile \u001b[39m\u001b[32md:\\GitHub Desktop\\IAClass_ML_Algorithms\\dsvenv\\Lib\\site-packages\\sklearn\\base.py:1363\u001b[39m, in \u001b[36m_fit_context.<locals>.decorator.<locals>.wrapper\u001b[39m\u001b[34m(estimator, *args, **kwargs)\u001b[39m\n\u001b[32m   1356\u001b[39m     estimator._validate_params()\n\u001b[32m   1358\u001b[39m \u001b[38;5;28;01mwith\u001b[39;00m config_context(\n\u001b[32m   1359\u001b[39m     skip_parameter_validation=(\n\u001b[32m   1360\u001b[39m         prefer_skip_nested_validation \u001b[38;5;129;01mor\u001b[39;00m global_skip_validation\n\u001b[32m   1361\u001b[39m     )\n\u001b[32m   1362\u001b[39m ):\n\u001b[32m-> \u001b[39m\u001b[32m1363\u001b[39m     \u001b[38;5;28;01mreturn\u001b[39;00m \u001b[43mfit_method\u001b[49m\u001b[43m(\u001b[49m\u001b[43mestimator\u001b[49m\u001b[43m,\u001b[49m\u001b[43m \u001b[49m\u001b[43m*\u001b[49m\u001b[43margs\u001b[49m\u001b[43m,\u001b[49m\u001b[43m \u001b[49m\u001b[43m*\u001b[49m\u001b[43m*\u001b[49m\u001b[43mkwargs\u001b[49m\u001b[43m)\u001b[49m\n",
      "\u001b[36mFile \u001b[39m\u001b[32md:\\GitHub Desktop\\IAClass_ML_Algorithms\\dsvenv\\Lib\\site-packages\\sklearn\\model_selection\\_search.py:1051\u001b[39m, in \u001b[36mBaseSearchCV.fit\u001b[39m\u001b[34m(self, X, y, **params)\u001b[39m\n\u001b[32m   1045\u001b[39m     results = \u001b[38;5;28mself\u001b[39m._format_results(\n\u001b[32m   1046\u001b[39m         all_candidate_params, n_splits, all_out, all_more_results\n\u001b[32m   1047\u001b[39m     )\n\u001b[32m   1049\u001b[39m     \u001b[38;5;28;01mreturn\u001b[39;00m results\n\u001b[32m-> \u001b[39m\u001b[32m1051\u001b[39m \u001b[38;5;28;43mself\u001b[39;49m\u001b[43m.\u001b[49m\u001b[43m_run_search\u001b[49m\u001b[43m(\u001b[49m\u001b[43mevaluate_candidates\u001b[49m\u001b[43m)\u001b[49m\n\u001b[32m   1053\u001b[39m \u001b[38;5;66;03m# multimetric is determined here because in the case of a callable\u001b[39;00m\n\u001b[32m   1054\u001b[39m \u001b[38;5;66;03m# self.scoring the return type is only known after calling\u001b[39;00m\n\u001b[32m   1055\u001b[39m first_test_score = all_out[\u001b[32m0\u001b[39m][\u001b[33m\"\u001b[39m\u001b[33mtest_scores\u001b[39m\u001b[33m\"\u001b[39m]\n",
      "\u001b[36mFile \u001b[39m\u001b[32md:\\GitHub Desktop\\IAClass_ML_Algorithms\\dsvenv\\Lib\\site-packages\\sklearn\\model_selection\\_search.py:1605\u001b[39m, in \u001b[36mGridSearchCV._run_search\u001b[39m\u001b[34m(self, evaluate_candidates)\u001b[39m\n\u001b[32m   1603\u001b[39m \u001b[38;5;28;01mdef\u001b[39;00m\u001b[38;5;250m \u001b[39m\u001b[34m_run_search\u001b[39m(\u001b[38;5;28mself\u001b[39m, evaluate_candidates):\n\u001b[32m   1604\u001b[39m \u001b[38;5;250m    \u001b[39m\u001b[33;03m\"\"\"Search all candidates in param_grid\"\"\"\u001b[39;00m\n\u001b[32m-> \u001b[39m\u001b[32m1605\u001b[39m     \u001b[43mevaluate_candidates\u001b[49m\u001b[43m(\u001b[49m\u001b[43mParameterGrid\u001b[49m\u001b[43m(\u001b[49m\u001b[38;5;28;43mself\u001b[39;49m\u001b[43m.\u001b[49m\u001b[43mparam_grid\u001b[49m\u001b[43m)\u001b[49m\u001b[43m)\u001b[49m\n",
      "\u001b[36mFile \u001b[39m\u001b[32md:\\GitHub Desktop\\IAClass_ML_Algorithms\\dsvenv\\Lib\\site-packages\\sklearn\\model_selection\\_search.py:1028\u001b[39m, in \u001b[36mBaseSearchCV.fit.<locals>.evaluate_candidates\u001b[39m\u001b[34m(candidate_params, cv, more_results)\u001b[39m\n\u001b[32m   1021\u001b[39m \u001b[38;5;28;01melif\u001b[39;00m \u001b[38;5;28mlen\u001b[39m(out) != n_candidates * n_splits:\n\u001b[32m   1022\u001b[39m     \u001b[38;5;28;01mraise\u001b[39;00m \u001b[38;5;167;01mValueError\u001b[39;00m(\n\u001b[32m   1023\u001b[39m         \u001b[33m\"\u001b[39m\u001b[33mcv.split and cv.get_n_splits returned \u001b[39m\u001b[33m\"\u001b[39m\n\u001b[32m   1024\u001b[39m         \u001b[33m\"\u001b[39m\u001b[33minconsistent results. Expected \u001b[39m\u001b[38;5;132;01m{}\u001b[39;00m\u001b[33m \u001b[39m\u001b[33m\"\u001b[39m\n\u001b[32m   1025\u001b[39m         \u001b[33m\"\u001b[39m\u001b[33msplits, got \u001b[39m\u001b[38;5;132;01m{}\u001b[39;00m\u001b[33m\"\u001b[39m.format(n_splits, \u001b[38;5;28mlen\u001b[39m(out) // n_candidates)\n\u001b[32m   1026\u001b[39m     )\n\u001b[32m-> \u001b[39m\u001b[32m1028\u001b[39m \u001b[43m_warn_or_raise_about_fit_failures\u001b[49m\u001b[43m(\u001b[49m\u001b[43mout\u001b[49m\u001b[43m,\u001b[49m\u001b[43m \u001b[49m\u001b[38;5;28;43mself\u001b[39;49m\u001b[43m.\u001b[49m\u001b[43merror_score\u001b[49m\u001b[43m)\u001b[49m\n\u001b[32m   1030\u001b[39m \u001b[38;5;66;03m# For callable self.scoring, the return type is only know after\u001b[39;00m\n\u001b[32m   1031\u001b[39m \u001b[38;5;66;03m# calling. If the return type is a dictionary, the error scores\u001b[39;00m\n\u001b[32m   1032\u001b[39m \u001b[38;5;66;03m# can now be inserted with the correct key. The type checking\u001b[39;00m\n\u001b[32m   1033\u001b[39m \u001b[38;5;66;03m# of out will be done in `_insert_error_scores`.\u001b[39;00m\n\u001b[32m   1034\u001b[39m \u001b[38;5;28;01mif\u001b[39;00m \u001b[38;5;28mcallable\u001b[39m(\u001b[38;5;28mself\u001b[39m.scoring):\n",
      "\u001b[36mFile \u001b[39m\u001b[32md:\\GitHub Desktop\\IAClass_ML_Algorithms\\dsvenv\\Lib\\site-packages\\sklearn\\model_selection\\_validation.py:505\u001b[39m, in \u001b[36m_warn_or_raise_about_fit_failures\u001b[39m\u001b[34m(results, error_score)\u001b[39m\n\u001b[32m    498\u001b[39m \u001b[38;5;28;01mif\u001b[39;00m num_failed_fits == num_fits:\n\u001b[32m    499\u001b[39m     all_fits_failed_message = (\n\u001b[32m    500\u001b[39m         \u001b[33mf\u001b[39m\u001b[33m\"\u001b[39m\u001b[38;5;130;01m\\n\u001b[39;00m\u001b[33mAll the \u001b[39m\u001b[38;5;132;01m{\u001b[39;00mnum_fits\u001b[38;5;132;01m}\u001b[39;00m\u001b[33m fits failed.\u001b[39m\u001b[38;5;130;01m\\n\u001b[39;00m\u001b[33m\"\u001b[39m\n\u001b[32m    501\u001b[39m         \u001b[33m\"\u001b[39m\u001b[33mIt is very likely that your model is misconfigured.\u001b[39m\u001b[38;5;130;01m\\n\u001b[39;00m\u001b[33m\"\u001b[39m\n\u001b[32m    502\u001b[39m         \u001b[33m\"\u001b[39m\u001b[33mYou can try to debug the error by setting error_score=\u001b[39m\u001b[33m'\u001b[39m\u001b[33mraise\u001b[39m\u001b[33m'\u001b[39m\u001b[33m.\u001b[39m\u001b[38;5;130;01m\\n\u001b[39;00m\u001b[38;5;130;01m\\n\u001b[39;00m\u001b[33m\"\u001b[39m\n\u001b[32m    503\u001b[39m         \u001b[33mf\u001b[39m\u001b[33m\"\u001b[39m\u001b[33mBelow are more details about the failures:\u001b[39m\u001b[38;5;130;01m\\n\u001b[39;00m\u001b[38;5;132;01m{\u001b[39;00mfit_errors_summary\u001b[38;5;132;01m}\u001b[39;00m\u001b[33m\"\u001b[39m\n\u001b[32m    504\u001b[39m     )\n\u001b[32m--> \u001b[39m\u001b[32m505\u001b[39m     \u001b[38;5;28;01mraise\u001b[39;00m \u001b[38;5;167;01mValueError\u001b[39;00m(all_fits_failed_message)\n\u001b[32m    507\u001b[39m \u001b[38;5;28;01melse\u001b[39;00m:\n\u001b[32m    508\u001b[39m     some_fits_failed_message = (\n\u001b[32m    509\u001b[39m         \u001b[33mf\u001b[39m\u001b[33m\"\u001b[39m\u001b[38;5;130;01m\\n\u001b[39;00m\u001b[38;5;132;01m{\u001b[39;00mnum_failed_fits\u001b[38;5;132;01m}\u001b[39;00m\u001b[33m fits failed out of a total of \u001b[39m\u001b[38;5;132;01m{\u001b[39;00mnum_fits\u001b[38;5;132;01m}\u001b[39;00m\u001b[33m.\u001b[39m\u001b[38;5;130;01m\\n\u001b[39;00m\u001b[33m\"\u001b[39m\n\u001b[32m    510\u001b[39m         \u001b[33m\"\u001b[39m\u001b[33mThe score on these train-test partitions for these parameters\u001b[39m\u001b[33m\"\u001b[39m\n\u001b[32m   (...)\u001b[39m\u001b[32m    514\u001b[39m         \u001b[33mf\u001b[39m\u001b[33m\"\u001b[39m\u001b[33mBelow are more details about the failures:\u001b[39m\u001b[38;5;130;01m\\n\u001b[39;00m\u001b[38;5;132;01m{\u001b[39;00mfit_errors_summary\u001b[38;5;132;01m}\u001b[39;00m\u001b[33m\"\u001b[39m\n\u001b[32m    515\u001b[39m     )\n",
      "\u001b[31mValueError\u001b[39m: \nAll the 180 fits failed.\nIt is very likely that your model is misconfigured.\nYou can try to debug the error by setting error_score='raise'.\n\nBelow are more details about the failures:\n--------------------------------------------------------------------------------\n36 fits failed with the following error:\nTraceback (most recent call last):\n  File \"d:\\GitHub Desktop\\IAClass_ML_Algorithms\\dsvenv\\Lib\\site-packages\\sklearn\\model_selection\\_validation.py\", line 859, in _fit_and_score\n    estimator.fit(X_train, y_train, **fit_params)\n    ~~~~~~~~~~~~~^^^^^^^^^^^^^^^^^^^^^^^^^^^^^^^^\n  File \"d:\\GitHub Desktop\\IAClass_ML_Algorithms\\dsvenv\\Lib\\site-packages\\sklearn\\base.py\", line 1363, in wrapper\n    return fit_method(estimator, *args, **kwargs)\n  File \"d:\\GitHub Desktop\\IAClass_ML_Algorithms\\dsvenv\\Lib\\site-packages\\sklearn\\tree\\_classes.py\", line 1024, in fit\n    super()._fit(\n    ~~~~~~~~~~~~^\n        X,\n        ^^\n    ...<2 lines>...\n        check_input=check_input,\n        ^^^^^^^^^^^^^^^^^^^^^^^^\n    )\n    ^\n  File \"d:\\GitHub Desktop\\IAClass_ML_Algorithms\\dsvenv\\Lib\\site-packages\\sklearn\\tree\\_classes.py\", line 252, in _fit\n    X, y = validate_data(\n           ~~~~~~~~~~~~~^\n        self, X, y, validate_separately=(check_X_params, check_y_params)\n        ^^^^^^^^^^^^^^^^^^^^^^^^^^^^^^^^^^^^^^^^^^^^^^^^^^^^^^^^^^^^^^^^\n    )\n    ^\n  File \"d:\\GitHub Desktop\\IAClass_ML_Algorithms\\dsvenv\\Lib\\site-packages\\sklearn\\utils\\validation.py\", line 2966, in validate_data\n    X = check_array(X, input_name=\"X\", **check_X_params)\n  File \"d:\\GitHub Desktop\\IAClass_ML_Algorithms\\dsvenv\\Lib\\site-packages\\sklearn\\utils\\validation.py\", line 1053, in check_array\n    array = _asarray_with_order(array, order=order, dtype=dtype, xp=xp)\n  File \"d:\\GitHub Desktop\\IAClass_ML_Algorithms\\dsvenv\\Lib\\site-packages\\sklearn\\utils\\_array_api.py\", line 757, in _asarray_with_order\n    array = numpy.asarray(array, order=order, dtype=dtype)\n  File \"d:\\GitHub Desktop\\IAClass_ML_Algorithms\\dsvenv\\Lib\\site-packages\\pandas\\core\\generic.py\", line 2168, in __array__\n    arr = np.asarray(values, dtype=dtype)\nValueError: could not convert string to float: '$67'\n\n--------------------------------------------------------------------------------\n144 fits failed with the following error:\nTraceback (most recent call last):\n  File \"d:\\GitHub Desktop\\IAClass_ML_Algorithms\\dsvenv\\Lib\\site-packages\\sklearn\\model_selection\\_validation.py\", line 859, in _fit_and_score\n    estimator.fit(X_train, y_train, **fit_params)\n    ~~~~~~~~~~~~~^^^^^^^^^^^^^^^^^^^^^^^^^^^^^^^^\n  File \"d:\\GitHub Desktop\\IAClass_ML_Algorithms\\dsvenv\\Lib\\site-packages\\sklearn\\base.py\", line 1363, in wrapper\n    return fit_method(estimator, *args, **kwargs)\n  File \"d:\\GitHub Desktop\\IAClass_ML_Algorithms\\dsvenv\\Lib\\site-packages\\sklearn\\tree\\_classes.py\", line 1024, in fit\n    super()._fit(\n    ~~~~~~~~~~~~^\n        X,\n        ^^\n    ...<2 lines>...\n        check_input=check_input,\n        ^^^^^^^^^^^^^^^^^^^^^^^^\n    )\n    ^\n  File \"d:\\GitHub Desktop\\IAClass_ML_Algorithms\\dsvenv\\Lib\\site-packages\\sklearn\\tree\\_classes.py\", line 252, in _fit\n    X, y = validate_data(\n           ~~~~~~~~~~~~~^\n        self, X, y, validate_separately=(check_X_params, check_y_params)\n        ^^^^^^^^^^^^^^^^^^^^^^^^^^^^^^^^^^^^^^^^^^^^^^^^^^^^^^^^^^^^^^^^\n    )\n    ^\n  File \"d:\\GitHub Desktop\\IAClass_ML_Algorithms\\dsvenv\\Lib\\site-packages\\sklearn\\utils\\validation.py\", line 2966, in validate_data\n    X = check_array(X, input_name=\"X\", **check_X_params)\n  File \"d:\\GitHub Desktop\\IAClass_ML_Algorithms\\dsvenv\\Lib\\site-packages\\sklearn\\utils\\validation.py\", line 1053, in check_array\n    array = _asarray_with_order(array, order=order, dtype=dtype, xp=xp)\n  File \"d:\\GitHub Desktop\\IAClass_ML_Algorithms\\dsvenv\\Lib\\site-packages\\sklearn\\utils\\_array_api.py\", line 757, in _asarray_with_order\n    array = numpy.asarray(array, order=order, dtype=dtype)\n  File \"d:\\GitHub Desktop\\IAClass_ML_Algorithms\\dsvenv\\Lib\\site-packages\\pandas\\core\\generic.py\", line 2168, in __array__\n    arr = np.asarray(values, dtype=dtype)\nValueError: could not convert string to float: '$48'\n"
     ]
    }
   ],
   "source": [
    "# Modelo 1: Árvore de Decisão\n",
    "dt = DecisionTreeClassifier(random_state=27)\n",
    "\n",
    "# Grid Search para otimizar hiperparâmetros\n",
    "param_grid_dt = {\n",
    "    'max_depth': [None, 10, 20, 30],\n",
    "    'min_samples_split': [2, 5, 10],\n",
    "    'min_samples_leaf': [1, 2, 4]\n",
    "}\n",
    "grid_dt = GridSearchCV(dt, param_grid_dt, cv=5, scoring='accuracy')\n",
    "grid_dt.fit(X_train, y_train)\n",
    "\n",
    "# Melhor modelo de árvore\n",
    "best_dt = grid_dt.best_estimator_\n",
    "y_pred_dt = best_dt.predict(X_test)\n",
    "accuracy_dt = accuracy_score(y_test, y_pred_dt)\n",
    "print(\"Melhor Acurácia Árvore de Decisão:\", accuracy_dt)\n",
    "print(\"Melhores Hiperparâmetros:\", grid_dt.best_params_)\n",
    "print(\"Relatório de Classificação Árvore de Decisão:\\n\", classification_report(y_test, y_pred_dt))"
   ]
  }
 ],
 "metadata": {
  "kernelspec": {
   "display_name": "dsvenv",
   "language": "python",
   "name": "python3"
  },
  "language_info": {
   "codemirror_mode": {
    "name": "ipython",
    "version": 3
   },
   "file_extension": ".py",
   "mimetype": "text/x-python",
   "name": "python",
   "nbconvert_exporter": "python",
   "pygments_lexer": "ipython3",
   "version": "3.13.3"
  }
 },
 "nbformat": 4,
 "nbformat_minor": 5
}
