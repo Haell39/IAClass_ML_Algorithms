{
 "cells": [
  {
   "cell_type": "code",
   "execution_count": null,
   "metadata": {},
   "outputs": [],
   "source": [
    "\"\"\"Importar bibliotecas e carregar o dataset\"\"\"\n",
    "import pandas as pd\n",
    "from sklearn.model_selection import train_test_split\n",
    "from sklearn.preprocessing import StandardScaler\n",
    "from sklearn.neighbors import KNeighborsClassifier\n",
    "from sklearn.metrics import accuracy_score, classification_report, confusion_matrix\n",
    "\n",
    "# Carregar o dataset\n",
    "df = pd.read_csv('data.csv')\n",
    "\n",
    "# Exibir as primeiras linhas e informações gerais para inspeção\n",
    "print(\"Primeiras 5 linhas do dataset:\")\n",
    "print(df.head().to_markdown(index=False, numalign=\"left\", stralign=\"left\"))\n",
    "print(\"\\nInformações do dataset:\")\n",
    "df.info()"
   ]
  },
  {
   "cell_type": "code",
   "execution_count": null,
   "metadata": {},
   "outputs": [],
   "source": [
    "\"\"\"Pré-processamento dos dados\"\"\"\n",
    "\n",
    "# Remover colunas desnecessárias\n",
    "# 'id' é um identificador e 'Unnamed: 32' está vazia\n",
    "df = df.drop(columns=['id', 'Unnamed: 32'])\n",
    "\n",
    "# Codificar a coluna 'diagnosis' (variável alvo)\n",
    "# 'M' (Maligno) será 1 e 'B' (Benigno) será 0\n",
    "df['diagnosis'] = df['diagnosis'].map({'M': 1, 'B': 0})\n",
    "\n",
    "# Separar features (X) e a variável alvo (y)\n",
    "X = df.drop('diagnosis', axis=1)\n",
    "y = df['diagnosis']\n",
    "\n",
    "print(\"\\nDataset após remoção de colunas e codificação da variável alvo:\")\n",
    "print(df.head().to_markdown(index=False, numalign=\"left\", stralign=\"left\"))\n",
    "print(f\"\\nFormato de X (features): {X.shape}\")\n",
    "print(f\"Formato de y (alvo): {y.shape}\")"
   ]
  },
  {
   "cell_type": "code",
   "execution_count": null,
   "metadata": {},
   "outputs": [],
   "source": [
    "\"\"\"Dividir dados em treino e teste e escalar features\"\"\"\n",
    "\n",
    "# Dividir o dataset em conjuntos de treino e teste (70% treino, 30% teste)\n",
    "X_train, X_test, y_train, y_test = train_test_split(X, y, test_size=0.3, random_state=42)\n",
    "\n",
    "# Inicializar o StandardScaler para normalizar as features\n",
    "# A normalização é importante para algoritmos baseados em distância como o KNN\n",
    "scaler = StandardScaler()\n",
    "\n",
    "# Ajustar o scaler aos dados de treino e transformar os dados de treino e teste\n",
    "X_train_scaled = scaler.fit_transform(X_train)\n",
    "X_test_scaled = scaler.fit_transform(X_test)\n",
    "\n",
    "print(\"\\nDados de treino e teste após escalonamento:\")\n",
    "print(f\"Formato de X_train_scaled: {X_train_scaled.shape}\")\n",
    "print(f\"Formato de X_test_scaled: {X_test_scaled.shape}\")"
   ]
  },
  {
   "cell_type": "code",
   "execution_count": null,
   "metadata": {},
   "outputs": [],
   "source": [
    "\"\"\"Treinar o modelo KNN\"\"\"\n",
    "\n",
    "# Inicializar o classificador K-Nearest Neighbors\n",
    "# n_neighbors = 5\n",
    "knn = KNeighborsClassifier(n_neighbors=5)\n",
    "\n",
    "# Treinar o modelo com os dados de treino escalonados\n",
    "knn.fit(X_train_scaled, y_train)\n",
    "\n",
    "print(f\"\\nModelo KNN treinado com n_neighbors={knn.n_neighbors}.\")"
   ]
  },
  {
   "cell_type": "code",
   "execution_count": null,
   "metadata": {},
   "outputs": [],
   "source": [
    "\"\"\"Fazer previsões e avaliar o modelo\"\"\"\n",
    "\n",
    "# Fazer previsões no conjunto de teste escalonado\n",
    "y_pred = knn.predict(X_test_scaled)\n",
    "\n",
    "# Calcular a acurácia do modelo\n",
    "accuracy = accuracy_score(y_test, y_pred)\n",
    "\n",
    "# Gerar a matriz de confusão\n",
    "conf_matrix = confusion_matrix(y_test, y_pred)\n",
    "\n",
    "# Gerar o relatório de classificação\n",
    "class_report = classification_report(y_test, y_pred)\n",
    "\n",
    "print(f\"Acurácia do modelo KNN: {accuracy:.4f}\")\n",
    "print(\"\\nMatriz de Confusão:\")\n",
    "print(conf_matrix)\n",
    "print(\"\\nRelatório de Classificação:\")\n",
    "print(class_report)"
   ]
  }
 ],
 "metadata": {
  "language_info": {
   "name": "python"
  }
 },
 "nbformat": 4,
 "nbformat_minor": 2
}
