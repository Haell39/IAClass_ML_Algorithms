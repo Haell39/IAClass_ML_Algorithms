{
 "cells": [
  {
   "cell_type": "code",
   "execution_count": null,
   "metadata": {},
   "outputs": [],
   "source": [
    "# Célula 1: Importar bibliotecas e carregar o dataset para K-Means\n",
    "import pandas as pd\n",
    "from sklearn.preprocessing import StandardScaler\n",
    "from sklearn.cluster import KMeans\n",
    "from sklearn.metrics import silhouette_score, davies_bouldin_score, adjusted_rand_score, normalized_mutual_info_score\n",
    "\n",
    "# Carregar o dataset\n",
    "df_kmeans = pd.read_csv('data.csv')\n",
    "\n",
    "# Exibir as primeiras linhas e informações gerais para inspeção\n",
    "print(\"Primeiras 5 linhas do dataset para K-Means:\")\n",
    "print(df_kmeans.head().to_markdown(index=False, numalign=\"left\", stralign=\"left\"))\n",
    "print(\"\\nInformações do dataset para K-Means:\")\n",
    "df_kmeans.info()"
   ]
  },
  {
   "cell_type": "code",
   "execution_count": null,
   "metadata": {},
   "outputs": [],
   "source": [
    "# Célula 2: Pré-processamento dos dados para K-Means\n",
    "\n",
    "# Remover colunas desnecessárias\n",
    "# 'id' é um identificador e 'Unnamed: 32' está vazia\n",
    "df_kmeans = df_kmeans.drop(columns=['id', 'Unnamed: 32'])\n",
    "\n",
    "# Separar as features (X_kmeans) para o K-means.\n",
    "# a coluna 'diagnosis' não é usada como alvo para o agrupamento.\n",
    "X_kmeans = df_kmeans.drop('diagnosis', axis=1)\n",
    "\n",
    "# Normalizar as features usando StandardScaler\n",
    "scaler_kmeans = StandardScaler()\n",
    "X_kmeans_scaled = scaler_kmeans.fit_transform(X_kmeans)\n",
    "\n",
    "print(\"\\nDataset após remoção de colunas e preparação para K-Means:\")\n",
    "print(X_kmeans.head().to_markdown(index=False, numalign=\"left\", stralign=\"left\"))\n",
    "print(f\"\\nFormato de X_kmeans (features): {X_kmeans.shape}\")\n",
    "print(f\"Formato de X_kmeans_scaled (features escalonadas): {X_kmeans_scaled.shape}\")"
   ]
  },
  {
   "cell_type": "code",
   "execution_count": null,
   "metadata": {},
   "outputs": [],
   "source": [
    "# Célula 3: Aplicar o algoritmo K-Means\n",
    "\n",
    "# n_clusters=2, pois o problema original sugere duas classes (Maligno/Benigno).\n",
    "\n",
    "kmeans = KMeans(n_clusters=2, random_state=42, n_init='auto')\n",
    "kmeans.fit(X_kmeans_scaled)\n",
    "\n",
    "# Obter os rótulos de cluster atribuídos a cada amostra\n",
    "clusters = kmeans.labels_\n",
    "\n",
    "# Adicionar os rótulos de cluster ao DataFrame original (após a remoção das colunas)\n",
    "df_kmeans['cluster'] = clusters\n",
    "\n",
    "print(f\"\\nAlgoritmo K-Means aplicado com n_clusters={kmeans.n_clusters}.\")\n",
    "print(\"Os rótulos de cluster foram adicionados ao DataFrame.\")"
   ]
  },
  {
   "cell_type": "code",
   "execution_count": null,
   "metadata": {},
   "outputs": [],
   "source": [
    "# Célula 4: Avaliar os resultados do K-Means\n",
    "\n",
    "# Para fins de avaliação, vamos mapear 'diagnosis' para valores numéricos\n",
    "df_kmeans['diagnosis_numeric'] = df_kmeans['diagnosis'].map({'M': 1, 'B': 0})\n",
    "\n",
    "# Calcular o (ARI) e (NMI) -- > métricas para compara os clusters com os rótulos verdadeiros (diagnosis)\n",
    "ari = adjusted_rand_score(df_kmeans['diagnosis_numeric'], clusters)\n",
    "nmi = normalized_mutual_info_score(df_kmeans['diagnosis_numeric'], clusters)\n",
    "\n",
    "# Calcular o Silhouette Score e Davies-Bouldin Score\n",
    "silhouette_avg = silhouette_score(X_kmeans_scaled, clusters)\n",
    "davies_bouldin_avg = davies_bouldin_score(X_kmeans_scaled, clusters)\n",
    "\n",
    "\n",
    "print(\"Primeiras 5 linhas do dataset com as atribuições de cluster e diagnóstico numérico:\")\n",
    "print(df_kmeans[['diagnosis', 'diagnosis_numeric', 'cluster']].head().to_markdown(index=False, numalign=\"left\", stralign=\"left\"))\n",
    "\n",
    "print(f\"\\nAdjusted Rand Index (ARI): {ari:.4f}\")\n",
    "print(f\"Normalized Mutual Information (NMI): {nmi:.4f}\")\n",
    "print(f\"Silhouette Score: {silhouette_avg:.4f}\")\n",
    "print(f\"Davies-Bouldin Score: {davies_bouldin_avg:.4f}\")\n",
    "\n",
    "# Exibir a distribuição da variável 'diagnosis' dentro de cada cluster\n",
    "print(\"\\nDistribuição da variável 'diagnosis' por cluster:\")\n",
    "print(pd.crosstab(df_kmeans['cluster'], df_kmeans['diagnosis']).to_markdown(numalign=\"left\", stralign=\"left\"))"
   ]
  }
 ],
 "metadata": {
  "language_info": {
   "name": "python"
  }
 },
 "nbformat": 4,
 "nbformat_minor": 2
}
